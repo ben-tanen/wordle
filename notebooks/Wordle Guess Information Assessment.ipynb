{
 "cells": [
  {
   "cell_type": "markdown",
   "metadata": {},
   "source": [
    "# Wordle Guess Information Assessment\n",
    "\n",
    "An attempt to recreate a similar analysis to that of [3Blue1Brown](https://www.youtube.com/watch?v=v68zYyaEmEA), primarily to assess the quality of my two-word guess strategy (\"horse\" and \"paint). Once that assessment is in place, I'd like to search for all possible two-word guesses that could be used for my strategy (two words made of the most common letters and that share no letters between them) and see how my initial picks compare. **This article** (need to find it) outlines an attempt to do a similar survey of all solid starting words, so this could be used as a starting basis."
   ]
  },
  {
   "cell_type": "code",
   "execution_count": 1,
   "metadata": {},
   "outputs": [],
   "source": [
    "import math\n",
    "import numpy as np\n",
    "import pandas as pd"
   ]
  },
  {
   "cell_type": "markdown",
   "metadata": {},
   "source": [
    "To start, I'll utilize the Wordle word list that was available through the site's source code as of January 30, 2022. I don't think it's available anymore now that it's been ported to the New York Times, but it doesn't seem that the NYT version is using a substantially different list."
   ]
  },
  {
   "cell_type": "code",
   "execution_count": 8,
   "metadata": {},
   "outputs": [
    {
     "data": {
      "text/html": [
       "<div>\n",
       "<style scoped>\n",
       "    .dataframe tbody tr th:only-of-type {\n",
       "        vertical-align: middle;\n",
       "    }\n",
       "\n",
       "    .dataframe tbody tr th {\n",
       "        vertical-align: top;\n",
       "    }\n",
       "\n",
       "    .dataframe thead th {\n",
       "        text-align: right;\n",
       "    }\n",
       "</style>\n",
       "<table border=\"1\" class=\"dataframe\">\n",
       "  <thead>\n",
       "    <tr style=\"text-align: right;\">\n",
       "      <th></th>\n",
       "      <th>word</th>\n",
       "      <th>type</th>\n",
       "    </tr>\n",
       "  </thead>\n",
       "  <tbody>\n",
       "    <tr>\n",
       "      <th>0</th>\n",
       "      <td>cigar</td>\n",
       "      <td>answer</td>\n",
       "    </tr>\n",
       "    <tr>\n",
       "      <th>1</th>\n",
       "      <td>rebut</td>\n",
       "      <td>answer</td>\n",
       "    </tr>\n",
       "    <tr>\n",
       "      <th>2</th>\n",
       "      <td>sissy</td>\n",
       "      <td>answer</td>\n",
       "    </tr>\n",
       "    <tr>\n",
       "      <th>3</th>\n",
       "      <td>humph</td>\n",
       "      <td>answer</td>\n",
       "    </tr>\n",
       "    <tr>\n",
       "      <th>4</th>\n",
       "      <td>awake</td>\n",
       "      <td>answer</td>\n",
       "    </tr>\n",
       "    <tr>\n",
       "      <th>...</th>\n",
       "      <td>...</td>\n",
       "      <td>...</td>\n",
       "    </tr>\n",
       "    <tr>\n",
       "      <th>12967</th>\n",
       "      <td>zuzim</td>\n",
       "      <td>guess</td>\n",
       "    </tr>\n",
       "    <tr>\n",
       "      <th>12968</th>\n",
       "      <td>zygal</td>\n",
       "      <td>guess</td>\n",
       "    </tr>\n",
       "    <tr>\n",
       "      <th>12969</th>\n",
       "      <td>zygon</td>\n",
       "      <td>guess</td>\n",
       "    </tr>\n",
       "    <tr>\n",
       "      <th>12970</th>\n",
       "      <td>zymes</td>\n",
       "      <td>guess</td>\n",
       "    </tr>\n",
       "    <tr>\n",
       "      <th>12971</th>\n",
       "      <td>zymic</td>\n",
       "      <td>guess</td>\n",
       "    </tr>\n",
       "  </tbody>\n",
       "</table>\n",
       "<p>12972 rows × 2 columns</p>\n",
       "</div>"
      ],
      "text/plain": [
       "        word    type\n",
       "0      cigar  answer\n",
       "1      rebut  answer\n",
       "2      sissy  answer\n",
       "3      humph  answer\n",
       "4      awake  answer\n",
       "...      ...     ...\n",
       "12967  zuzim   guess\n",
       "12968  zygal   guess\n",
       "12969  zygon   guess\n",
       "12970  zymes   guess\n",
       "12971  zymic   guess\n",
       "\n",
       "[12972 rows x 2 columns]"
      ]
     },
     "execution_count": 8,
     "metadata": {},
     "output_type": "execute_result"
    }
   ],
   "source": [
    "words_df = pd.read_csv(\"../data/wordle-words-20220130.csv\", header = None, names = [\"word\", \"type\"])\n",
    "words_df"
   ]
  },
  {
   "cell_type": "code",
   "execution_count": 9,
   "metadata": {},
   "outputs": [],
   "source": [
    "guesses = [\"horse\", \"paint\"]"
   ]
  },
  {
   "cell_type": "code",
   "execution_count": 12,
   "metadata": {},
   "outputs": [],
   "source": [
    "word = \"house\"\n",
    "guess = guesses[0]"
   ]
  },
  {
   "cell_type": "code",
   "execution_count": 13,
   "metadata": {},
   "outputs": [
    {
     "data": {
      "text/plain": [
       "[('h', True, True),\n",
       " ('o', True, True),\n",
       " ('r', False, False),\n",
       " ('s', True, True),\n",
       " ('e', True, True)]"
      ]
     },
     "execution_count": 13,
     "metadata": {},
     "output_type": "execute_result"
    }
   ],
   "source": [
    "mask_info = [(l, word[i] == l, guess[:i+1].count(l) <= word.count(l)) for i, l in enumerate(guess)]\n",
    "mask_info"
   ]
  },
  {
   "cell_type": "code",
   "execution_count": 14,
   "metadata": {},
   "outputs": [
    {
     "data": {
      "text/plain": [
       "[2, 2, 0, 2, 2]"
      ]
     },
     "execution_count": 14,
     "metadata": {},
     "output_type": "execute_result"
    }
   ],
   "source": [
    "mask = [2 if mi[1] else 1 if mi[2] else 0 for mi in mask_info]\n",
    "mask"
   ]
  },
  {
   "cell_type": "code",
   "execution_count": 15,
   "metadata": {},
   "outputs": [],
   "source": [
    "def create_mask(r):\n",
    "    [word, guess] = [r[0], r[1]]\n",
    "    mask_info = [(l, word[i] == l, guess[:i+1].count(l) <= word.count(l)) for i, l in enumerate(guess)]\n",
    "    mask = [2 if mi[1] else 1 if mi[2] else 0 for mi in mask_info]\n",
    "    return \"\".join([str(m) for m in mask])"
   ]
  },
  {
   "cell_type": "code",
   "execution_count": 16,
   "metadata": {},
   "outputs": [
    {
     "data": {
      "text/plain": [
       "'22022'"
      ]
     },
     "execution_count": 16,
     "metadata": {},
     "output_type": "execute_result"
    }
   ],
   "source": [
    "create_mask([word, guess])"
   ]
  },
  {
   "cell_type": "code",
   "execution_count": 17,
   "metadata": {},
   "outputs": [],
   "source": [
    "df = words_df[words_df[\"type\"] == \"answer\"][[\"word\"]]\n",
    "for ix, guess in enumerate(guesses):\n",
    "    df[\"guess%d\" % (ix + 1)] = guess\n",
    "    df[\"mask%d\" % (ix + 1)] = df[[\"word\", \"guess%d\" % (ix + 1)]].apply(create_mask, axis = 1)\n",
    "# df[\"mask\"] = df.apply(create_mask, axis = 1)"
   ]
  },
  {
   "cell_type": "code",
   "execution_count": 18,
   "metadata": {},
   "outputs": [
    {
     "data": {
      "text/html": [
       "<div>\n",
       "<style scoped>\n",
       "    .dataframe tbody tr th:only-of-type {\n",
       "        vertical-align: middle;\n",
       "    }\n",
       "\n",
       "    .dataframe tbody tr th {\n",
       "        vertical-align: top;\n",
       "    }\n",
       "\n",
       "    .dataframe thead th {\n",
       "        text-align: right;\n",
       "    }\n",
       "</style>\n",
       "<table border=\"1\" class=\"dataframe\">\n",
       "  <thead>\n",
       "    <tr style=\"text-align: right;\">\n",
       "      <th></th>\n",
       "      <th>word</th>\n",
       "      <th>guess1</th>\n",
       "      <th>mask1</th>\n",
       "      <th>guess2</th>\n",
       "      <th>mask2</th>\n",
       "    </tr>\n",
       "  </thead>\n",
       "  <tbody>\n",
       "    <tr>\n",
       "      <th>0</th>\n",
       "      <td>cigar</td>\n",
       "      <td>horse</td>\n",
       "      <td>00100</td>\n",
       "      <td>paint</td>\n",
       "      <td>01100</td>\n",
       "    </tr>\n",
       "    <tr>\n",
       "      <th>1</th>\n",
       "      <td>rebut</td>\n",
       "      <td>horse</td>\n",
       "      <td>00101</td>\n",
       "      <td>paint</td>\n",
       "      <td>00002</td>\n",
       "    </tr>\n",
       "    <tr>\n",
       "      <th>2</th>\n",
       "      <td>sissy</td>\n",
       "      <td>horse</td>\n",
       "      <td>00020</td>\n",
       "      <td>paint</td>\n",
       "      <td>00100</td>\n",
       "    </tr>\n",
       "    <tr>\n",
       "      <th>3</th>\n",
       "      <td>humph</td>\n",
       "      <td>horse</td>\n",
       "      <td>20000</td>\n",
       "      <td>paint</td>\n",
       "      <td>10000</td>\n",
       "    </tr>\n",
       "    <tr>\n",
       "      <th>4</th>\n",
       "      <td>awake</td>\n",
       "      <td>horse</td>\n",
       "      <td>00002</td>\n",
       "      <td>paint</td>\n",
       "      <td>01000</td>\n",
       "    </tr>\n",
       "    <tr>\n",
       "      <th>...</th>\n",
       "      <td>...</td>\n",
       "      <td>...</td>\n",
       "      <td>...</td>\n",
       "      <td>...</td>\n",
       "      <td>...</td>\n",
       "    </tr>\n",
       "    <tr>\n",
       "      <th>2310</th>\n",
       "      <td>judge</td>\n",
       "      <td>horse</td>\n",
       "      <td>00002</td>\n",
       "      <td>paint</td>\n",
       "      <td>00000</td>\n",
       "    </tr>\n",
       "    <tr>\n",
       "      <th>2311</th>\n",
       "      <td>rower</td>\n",
       "      <td>horse</td>\n",
       "      <td>02101</td>\n",
       "      <td>paint</td>\n",
       "      <td>00000</td>\n",
       "    </tr>\n",
       "    <tr>\n",
       "      <th>2312</th>\n",
       "      <td>artsy</td>\n",
       "      <td>horse</td>\n",
       "      <td>00120</td>\n",
       "      <td>paint</td>\n",
       "      <td>01001</td>\n",
       "    </tr>\n",
       "    <tr>\n",
       "      <th>2313</th>\n",
       "      <td>rural</td>\n",
       "      <td>horse</td>\n",
       "      <td>00200</td>\n",
       "      <td>paint</td>\n",
       "      <td>01000</td>\n",
       "    </tr>\n",
       "    <tr>\n",
       "      <th>2314</th>\n",
       "      <td>shave</td>\n",
       "      <td>horse</td>\n",
       "      <td>10012</td>\n",
       "      <td>paint</td>\n",
       "      <td>01000</td>\n",
       "    </tr>\n",
       "  </tbody>\n",
       "</table>\n",
       "<p>2315 rows × 5 columns</p>\n",
       "</div>"
      ],
      "text/plain": [
       "       word guess1  mask1 guess2  mask2\n",
       "0     cigar  horse  00100  paint  01100\n",
       "1     rebut  horse  00101  paint  00002\n",
       "2     sissy  horse  00020  paint  00100\n",
       "3     humph  horse  20000  paint  10000\n",
       "4     awake  horse  00002  paint  01000\n",
       "...     ...    ...    ...    ...    ...\n",
       "2310  judge  horse  00002  paint  00000\n",
       "2311  rower  horse  02101  paint  00000\n",
       "2312  artsy  horse  00120  paint  01001\n",
       "2313  rural  horse  00200  paint  01000\n",
       "2314  shave  horse  10012  paint  01000\n",
       "\n",
       "[2315 rows x 5 columns]"
      ]
     },
     "execution_count": 18,
     "metadata": {},
     "output_type": "execute_result"
    }
   ],
   "source": [
    "df"
   ]
  },
  {
   "cell_type": "code",
   "execution_count": 20,
   "metadata": {},
   "outputs": [
    {
     "data": {
      "text/html": [
       "<div>\n",
       "<style scoped>\n",
       "    .dataframe tbody tr th:only-of-type {\n",
       "        vertical-align: middle;\n",
       "    }\n",
       "\n",
       "    .dataframe tbody tr th {\n",
       "        vertical-align: top;\n",
       "    }\n",
       "\n",
       "    .dataframe thead th {\n",
       "        text-align: right;\n",
       "    }\n",
       "</style>\n",
       "<table border=\"1\" class=\"dataframe\">\n",
       "  <thead>\n",
       "    <tr style=\"text-align: right;\">\n",
       "      <th></th>\n",
       "      <th></th>\n",
       "      <th></th>\n",
       "      <th></th>\n",
       "      <th>word</th>\n",
       "      <th>prob</th>\n",
       "      <th>info</th>\n",
       "    </tr>\n",
       "    <tr>\n",
       "      <th>guess1</th>\n",
       "      <th>mask1</th>\n",
       "      <th>guess2</th>\n",
       "      <th>mask2</th>\n",
       "      <th></th>\n",
       "      <th></th>\n",
       "      <th></th>\n",
       "    </tr>\n",
       "  </thead>\n",
       "  <tbody>\n",
       "    <tr>\n",
       "      <th rowspan=\"11\" valign=\"top\">horse</th>\n",
       "      <th rowspan=\"5\" valign=\"top\">00000</th>\n",
       "      <th rowspan=\"5\" valign=\"top\">paint</th>\n",
       "      <th>00000</th>\n",
       "      <td>17</td>\n",
       "      <td>0.007343</td>\n",
       "      <td>7.089334</td>\n",
       "    </tr>\n",
       "    <tr>\n",
       "      <th>00010</th>\n",
       "      <td>1</td>\n",
       "      <td>0.000432</td>\n",
       "      <td>11.176796</td>\n",
       "    </tr>\n",
       "    <tr>\n",
       "      <th>00011</th>\n",
       "      <td>1</td>\n",
       "      <td>0.000432</td>\n",
       "      <td>11.176796</td>\n",
       "    </tr>\n",
       "    <tr>\n",
       "      <th>00012</th>\n",
       "      <td>1</td>\n",
       "      <td>0.000432</td>\n",
       "      <td>11.176796</td>\n",
       "    </tr>\n",
       "    <tr>\n",
       "      <th>00020</th>\n",
       "      <td>5</td>\n",
       "      <td>0.002160</td>\n",
       "      <td>8.854868</td>\n",
       "    </tr>\n",
       "    <tr>\n",
       "      <th>...</th>\n",
       "      <th>...</th>\n",
       "      <th>...</th>\n",
       "      <td>...</td>\n",
       "      <td>...</td>\n",
       "      <td>...</td>\n",
       "    </tr>\n",
       "    <tr>\n",
       "      <th>22100</th>\n",
       "      <th>paint</th>\n",
       "      <th>01000</th>\n",
       "      <td>1</td>\n",
       "      <td>0.000432</td>\n",
       "      <td>11.176796</td>\n",
       "    </tr>\n",
       "    <tr>\n",
       "      <th>22101</th>\n",
       "      <th>paint</th>\n",
       "      <th>00000</th>\n",
       "      <td>2</td>\n",
       "      <td>0.000864</td>\n",
       "      <td>10.176796</td>\n",
       "    </tr>\n",
       "    <tr>\n",
       "      <th>22200</th>\n",
       "      <th>paint</th>\n",
       "      <th>00020</th>\n",
       "      <td>1</td>\n",
       "      <td>0.000432</td>\n",
       "      <td>11.176796</td>\n",
       "    </tr>\n",
       "    <tr>\n",
       "      <th>22202</th>\n",
       "      <th>paint</th>\n",
       "      <th>00000</th>\n",
       "      <td>1</td>\n",
       "      <td>0.000432</td>\n",
       "      <td>11.176796</td>\n",
       "    </tr>\n",
       "    <tr>\n",
       "      <th>22222</th>\n",
       "      <th>paint</th>\n",
       "      <th>00000</th>\n",
       "      <td>1</td>\n",
       "      <td>0.000432</td>\n",
       "      <td>11.176796</td>\n",
       "    </tr>\n",
       "  </tbody>\n",
       "</table>\n",
       "<p>1001 rows × 3 columns</p>\n",
       "</div>"
      ],
      "text/plain": [
       "                           word      prob       info\n",
       "guess1 mask1 guess2 mask2                           \n",
       "horse  00000 paint  00000    17  0.007343   7.089334\n",
       "                    00010     1  0.000432  11.176796\n",
       "                    00011     1  0.000432  11.176796\n",
       "                    00012     1  0.000432  11.176796\n",
       "                    00020     5  0.002160   8.854868\n",
       "...                         ...       ...        ...\n",
       "       22100 paint  01000     1  0.000432  11.176796\n",
       "       22101 paint  00000     2  0.000864  10.176796\n",
       "       22200 paint  00020     1  0.000432  11.176796\n",
       "       22202 paint  00000     1  0.000432  11.176796\n",
       "       22222 paint  00000     1  0.000432  11.176796\n",
       "\n",
       "[1001 rows x 3 columns]"
      ]
     },
     "execution_count": 20,
     "metadata": {},
     "output_type": "execute_result"
    }
   ],
   "source": [
    "counts = df.groupby(np.array([[\"guess%d\" % (ix + 1), \"mask%d\" % (ix + 1)] \n",
    "                              for ix in range(len(guesses))]).flatten().tolist()).count()\n",
    "counts[\"prob\"] = counts[\"word\"] / len(words_df[words_df['type'] == \"answer\"])\n",
    "counts[\"info\"] = np.log2(1 / counts[\"prob\"])\n",
    "counts"
   ]
  },
  {
   "cell_type": "code",
   "execution_count": 21,
   "metadata": {},
   "outputs": [
    {
     "data": {
      "image/png": "[encoded data removed]",
      "text/plain": [
       "<Figure size 432x288 with 1 Axes>"
      ]
     },
     "metadata": {
      "needs_background": "light"
     },
     "output_type": "display_data"
    }
   ],
   "source": [
    "import matplotlib.pyplot as plt\n",
    "fig = plt.figure()\n",
    "ax = fig.add_axes([0,0,1,1])\n",
    "students = sorted(counts[\"info\"].tolist(), reverse = True)\n",
    "ax.bar(range(len(counts[\"info\"].tolist())), students)\n",
    "plt.show()"
   ]
  }
 ],
 "metadata": {
  "kernelspec": {
   "display_name": "Python 3",
   "language": "python",
   "name": "python3"
  },
  "language_info": {
   "codemirror_mode": {
    "name": "ipython",
    "version": 3
   },
   "file_extension": ".py",
   "mimetype": "text/x-python",
   "name": "python",
   "nbconvert_exporter": "python",
   "pygments_lexer": "ipython3",
   "version": "3.8.5"
  }
 },
 "nbformat": 4,
 "nbformat_minor": 4
}
